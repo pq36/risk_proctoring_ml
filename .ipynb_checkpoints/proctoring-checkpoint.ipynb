{
 "cells": [
  {
   "cell_type": "code",
   "execution_count": null,
   "id": "0197e598-56df-4fa5-9f87-4f741f9b3ccc",
   "metadata": {},
   "outputs": [],
   "source": [
    "import pandas as pd\n",
    "from sklearn.model_selection import train_test_split\n",
    "from sklearn.svm import SVR\n",
    "from sklearn.preprocessing import StandardScaler\n",
    "from sklearn.metrics import mean_absolute_error, mean_squared_error\n",
    "import pickle\n",
    "\n",
    "# Load the dataset\n",
    "df = pd.read_csv(\"behavioral_dataset.csv\")\n",
    "\n",
    "# Handle missing values\n",
    "df.fillna(df.mean(), inplace=True)\n",
    "\n",
    "# Define feature columns and target (risk score)\n",
    "FEATURE_NAMES = [\"mean_dwell\", \"std_dwell\", \"mean_flight\", \"std_flight\", \n",
    "                 \"avg_mouse_speed\", \"tab_switch_count\", \"copy_events\", \n",
    "                 \"paste_events\", \"inactivity_time\"]\n",
    "\n",
    "X = df[FEATURE_NAMES]\n",
    "y = df['label'] * 100  # Convert 0/1 labels to risk scores (0-100)\n",
    "\n",
    "# Standardize the features\n",
    "scaler = StandardScaler()\n",
    "X_scaled = scaler.fit_transform(X)\n",
    "\n",
    "# Split the dataset\n",
    "X_train, X_test, y_train, y_test = train_test_split(X_scaled, y, test_size=0.3, random_state=42)\n",
    "\n",
    "# Train an SVR model\n",
    "svr = SVR(kernel='rbf', C=100, gamma=0.1, epsilon=5)\n",
    "svr.fit(X_train, y_train)\n",
    "\n",
    "# Evaluate the model\n",
    "y_pred = svr.predict(X_test)\n",
    "print(f\"Mean Absolute Error: {mean_absolute_error(y_test, y_pred)}\")\n",
    "print(f\"Mean Squared Error: {mean_squared_error(y_test, y_pred)}\")\n",
    "\n",
    "# Save the model and scaler\n",
    "with open(\"svr_model.pkl\", \"wb\") as f:\n",
    "    pickle.dump(svr, f)\n",
    "\n",
    "with open(\"scaler.pkl\", \"wb\") as f:\n",
    "    pickle.dump({\"scaler\": scaler, \"feature_names\": FEATURE_NAMES}, f)\n"
   ]
  }
 ],
 "metadata": {
  "kernelspec": {
   "display_name": "Python 3",
   "language": "python",
   "name": "python3"
  },
  "language_info": {
   "codemirror_mode": {
    "name": "ipython",
    "version": 3
   },
   "file_extension": ".py",
   "mimetype": "text/x-python",
   "name": "python",
   "nbconvert_exporter": "python",
   "pygments_lexer": "ipython3",
   "version": "3.11.3"
  }
 },
 "nbformat": 4,
 "nbformat_minor": 5
}
